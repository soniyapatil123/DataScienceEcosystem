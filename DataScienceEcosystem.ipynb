{
 "cells": [
  {
   "cell_type": "markdown",
   "id": "57c1ee53-5201-440a-b565-005e830a413f",
   "metadata": {
    "tags": []
   },
   "source": [
    "# Data Science Tools and Ecosystem"
   ]
  },
  {
   "cell_type": "markdown",
   "id": "626873e9-4332-40d0-860e-2dfd18d70f0b",
   "metadata": {},
   "source": [
    "This notebook used as open source web application. This notebook is useful to create code , Mathematical operation and text. "
   ]
  },
  {
   "cell_type": "markdown",
   "id": "c3e6f235-9973-43c4-8744-bdbb4022186a",
   "metadata": {},
   "source": [
    "Some of the popular languages that Data Scientists use are:\n",
    "1. Python\n",
    "2. R\n",
    "3. C++\n",
    "4. SQL\n",
    "5. JAVA"
   ]
  },
  {
   "cell_type": "markdown",
   "id": "d3e5281e-6310-4996-a604-5283f9e0f139",
   "metadata": {},
   "source": [
    "Some of the commonly used libraries used by Data Scientists include:\n",
    "1. Pandas\n",
    "2. NumPy\n",
    "3. Matplotlib\n",
    "4. ggplot\n",
    "5. Keras\n",
    "6. Scikit Learn"
   ]
  },
  {
   "cell_type": "markdown",
   "id": "e663ef73-2876-493e-9ba6-3004815c15b7",
   "metadata": {},
   "source": [
    "Data Science Tools\n",
    "- Rstudio\n",
    "- Github\n",
    "- MySQL\n",
    "- Apache Hadoop\n",
    "- Tensorflow\n",
    "- Tableau\n"
   ]
  },
  {
   "cell_type": "markdown",
   "id": "e596de11-e8d1-4077-93da-08efbdc6f73c",
   "metadata": {},
   "source": [
    "### Below are a few examples of evaluating arithmetic expressions in Python"
   ]
  },
  {
   "cell_type": "code",
   "execution_count": 8,
   "id": "32896e99-2077-4abe-bde5-7fcc2695deaa",
   "metadata": {
    "tags": []
   },
   "outputs": [
    {
     "data": {
      "text/plain": [
       "17"
      ]
     },
     "execution_count": 8,
     "metadata": {},
     "output_type": "execute_result"
    }
   ],
   "source": [
    "#This a simple arithmetic expression to mutiply then add integers\n",
    "(3*4)+5"
   ]
  },
  {
   "cell_type": "code",
   "execution_count": 9,
   "id": "6cd9836e-c635-4614-ade7-cc80db1b51e0",
   "metadata": {
    "tags": []
   },
   "outputs": [
    {
     "data": {
      "text/plain": [
       "3.3333333333333335"
      ]
     },
     "execution_count": 9,
     "metadata": {},
     "output_type": "execute_result"
    }
   ],
   "source": [
    "#This will convert 200 minutes to hours by diving by 60\n",
    "200/60"
   ]
  },
  {
   "cell_type": "markdown",
   "id": "112c3573-d58c-41fa-aff3-62b3bcdf0e92",
   "metadata": {},
   "source": [
    "**Objectives**\n",
    "- Categories of Data Science Tool\n",
    "- LanguageS of Data Science\n",
    "- Libraries for Data Science\n",
    "- Application Programming Interface\n",
    "- Introduction of Jupyter Notebook , R  & R studio\n"
   ]
  },
  {
   "cell_type": "markdown",
   "id": "8f85b49e-b1cb-4b15-91d5-e30ea65aacdc",
   "metadata": {},
   "source": [
    "## Author\n",
    "Soniya Ashish Patil"
   ]
  }
 ],
 "metadata": {
  "kernelspec": {
   "display_name": "Python 3 (ipykernel)",
   "language": "python",
   "name": "python3"
  },
  "language_info": {
   "codemirror_mode": {
    "name": "ipython",
    "version": 3
   },
   "file_extension": ".py",
   "mimetype": "text/x-python",
   "name": "python",
   "nbconvert_exporter": "python",
   "pygments_lexer": "ipython3",
   "version": "3.11.3"
  }
 },
 "nbformat": 4,
 "nbformat_minor": 5
}
